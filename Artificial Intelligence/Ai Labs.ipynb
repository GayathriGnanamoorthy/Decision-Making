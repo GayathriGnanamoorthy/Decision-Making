{
 "cells": [
  {
   "cell_type": "code",
   "execution_count": 1,
   "id": "19283402-50d0-421b-a8d8-b134fd4b6045",
   "metadata": {
    "tags": []
   },
   "outputs": [
    {
     "name": "stdout",
     "output_type": "stream",
     "text": [
      "base ball games\n",
      "(7483, 7455, 14938)\n"
     ]
    }
   ],
   "source": [
    "import itertools\n",
    "def solve():\n",
    "    letter=('b','a','s','e','l','g','m')\n",
    "    digit=range(10)\n",
    "    for perm in itertools.permutations(digit,len(letter)):\n",
    "        sol=dict(zip(letter,perm))\n",
    "        if sol['b']==0 or sol['g']==0:\n",
    "            continue\n",
    "        base=1000*sol['b']+100*sol['a']+10*sol['s']+sol['e']\n",
    "        ball=1000*sol['b']+100*sol['a']+10*sol['l']+sol['l']\n",
    "        games=10000*sol['g']+1000*sol['a']+100*sol['m']+10*sol['e']+sol['s']  \n",
    "        if base+ball==games:\n",
    "            print(\"base\",\"ball\",\"games\")\n",
    "            return base,ball,games\n",
    "print(solve())"
   ]
  },
  {
   "cell_type": "code",
   "execution_count": 2,
   "id": "c581d297-ad57-46bb-95b8-d4c2e6f72e03",
   "metadata": {
    "tags": []
   },
   "outputs": [
    {
     "name": "stdout",
     "output_type": "stream",
     "text": [
      "BFS: A B C D E F G \n",
      "DFS: A B D E F G C "
     ]
    }
   ],
   "source": [
    "graph = {\n",
    "    'A': ['B', 'C'],\n",
    "    'B': ['D', 'E'],\n",
    "    'C': ['F'],\n",
    "    'D': [],\n",
    "    'E': ['F', 'G'],\n",
    "    'F': [],\n",
    "    'G': ['F']\n",
    "}\n",
    "\n",
    "visited_bfs = []\n",
    "queue = []\n",
    "\n",
    "def bfs(visited, graph, node):\n",
    "    visited.append(node)\n",
    "    queue.append(node)\n",
    "\n",
    "    while queue:\n",
    "        s = queue.pop(0)\n",
    "        print(s, end=\" \")\n",
    " \n",
    "        for neighbor in graph[s]:\n",
    "            if neighbor not in visited:\n",
    "                visited.append(neighbor)\n",
    "                queue.append(neighbor)\n",
    "\n",
    "visited_dfs = set()\n",
    "\n",
    "def dfs(visited, graph, node):\n",
    "    if node not in visited:\n",
    "        print(node, end=\" \")\n",
    "        visited.add(node)\n",
    "\n",
    "        for neighbor in graph[node]:\n",
    "            dfs(visited, graph, neighbor)\n",
    "\n",
    "print(\"BFS:\", end=\" \")\n",
    "bfs(visited_bfs, graph, 'A')\n",
    "print(\"\\nDFS:\", end=\" \")\n",
    "dfs(visited_dfs, graph, 'A')\n"
   ]
  },
  {
   "cell_type": "code",
   "execution_count": 3,
   "id": "300b6bad-d42f-4de0-8950-a988d3c23d2f",
   "metadata": {
    "tags": []
   },
   "outputs": [
    {
     "name": "stdout",
     "output_type": "stream",
     "text": [
      "Enter a Number:3\n",
      "open closed closed "
     ]
    }
   ],
   "source": [
    "import math\n",
    "def hasEvenNumberOfFactors(n):\n",
    "\troot_n = math.sqrt(n)\n",
    "\tif ((root_n * root_n) == n):\n",
    "\t\treturn False\n",
    "\treturn True\n",
    "def printStatusOfDoors(n):\n",
    "\tfor i in range(1, n + 1):\n",
    "\t\tif (hasEvenNumberOfFactors(i) == True):\n",
    "\t\t\tprint(\"closed\", end =\" \")\n",
    "\t\telse:\n",
    "\t\t\tprint(\"open\", end =\" \")\n",
    "n = int(input(\"Enter a Number:\"))\n",
    "printStatusOfDoors(n)"
   ]
  },
  {
   "cell_type": "code",
   "execution_count": 3,
   "id": "1664c94c-d155-4fbe-80ed-82641a04c662",
   "metadata": {},
   "outputs": [
    {
     "name": "stdout",
     "output_type": "stream",
     "text": [
      "0 2 4 Results are:\n",
      "\n"
     ]
    }
   ],
   "source": [
    "from queue import PriorityQueue\n",
    "def best(source,target,n,graph):\n",
    "    visted=[0]*n\n",
    "    visted[source]=True\n",
    "    pq=PriorityQueue()\n",
    "    pq.put((0,source))\n",
    "    while pq.empty()==False:\n",
    "        u=pq.get()[1]\n",
    "        print(u,end=\" \")\n",
    "        if u==target:\n",
    "            break\n",
    "        for v,c in graph[u]:\n",
    "            if visted[v]==False:\n",
    "                visted[v]==True\n",
    "                pq.put((c,v))\n",
    "    print()\n",
    "graph={\n",
    "    0:[(1,5),(2,3)],\n",
    "    1:[(3,2)],\n",
    "    2:[(4,1)],\n",
    "    3:[(4,6)],\n",
    "    4:[]\n",
    "}\n",
    "source=0\n",
    "target=4 \n",
    "n=5\n",
    "best(source,target,n,graph)\n"
   ]
  },
  {
   "cell_type": "code",
   "execution_count": 1,
   "id": "a3ec49d3",
   "metadata": {},
   "outputs": [],
   "source": [
    "def clean(floor): \n",
    "    i, j, row, col = 0, 0, len(floor), len(floor[0])\n",
    "    for i in range(row):\n",
    "        if(i%2 == 0):\n",
    "            for j in range(col):\n",
    "                if(floor[i][j] == 1):\n",
    "                    print_F(floor, i, j)\n",
    "                    floor[i][j] = 0\n",
    "                print_F(floor, i, j)\n",
    "        else:\n",
    "            for j in range(col-1, -1, -1):\n",
    "                if(floor[i][j] == 1):\n",
    "                    print_F(floor, i, j)\n",
    "                    floor[i][j] = 0\n",
    "                print_F(floor, i, j)\n",
    "def print_F(floor, row, col): \n",
    "    \"\"\"A function to print the GRID , (row, col) represent the current vacuum cleaner position\"\"\" \n",
    "    print(\"The Floor matrix is as below:\")\n",
    "    for r in range(len(floor)):\n",
    "        for c in range(len(floor[r])):\n",
    "            if r == row and c == col:\n",
    "                print(f\" >{floor[r][c]}< \", end = '')\n",
    "            else:\n",
    "                print(f\"  {floor[r][c]}  \", end = '')\n",
    "        print(end = '\\n')\n",
    "    print(end = '\\n')\n",
    "def main():\n",
    "    floor = []\n",
    "    m = int(input(\"Enter the No. of Rows: \"))\n",
    "    n = int(input(\"Enter the No. of Columns: \"))\n",
    "    print(\"Enter clean status for each cell (1 - dirty, 0 - clean)\")\n",
    "    for i in range(m):\n",
    "        f = list(map(int, input().split(\" \")))\n",
    "        floor.append(f)\n",
    "    print()\n",
    "    clean(floor)"
   ]
  },
  {
   "cell_type": "code",
   "execution_count": 5,
   "id": "83294e60",
   "metadata": {},
   "outputs": [
    {
     "name": "stdout",
     "output_type": "stream",
     "text": [
      "Enter the status of door(0/1):0\n",
      "Enter if there is person standing(0/1):1\n",
      "Door openes\n"
     ]
    }
   ],
   "source": [
    "door_status=int(input(\"Enter the status of door(0/1):\"))\n",
    "person=int(input(\"Enter if there is person standing(0/1):\"))\n",
    "if door_status==1 and person==1:\n",
    "    print(\" stays openes\")\n",
    "elif door_status==1 and person==0:\n",
    "    print(\"Close\")\n",
    "elif door_status==0 and person==1:\n",
    "    print(\"Door openes\")\n",
    "elif door_status==0 and person==0:\n",
    "    print(\"Stays closed \")"
   ]
  },
  {
   "cell_type": "code",
   "execution_count": null,
   "id": "63cde2ad",
   "metadata": {},
   "outputs": [],
   "source": []
  }
 ],
 "metadata": {
  "kernelspec": {
   "display_name": "Python 3 (ipykernel)",
   "language": "python",
   "name": "python3"
  },
  "language_info": {
   "codemirror_mode": {
    "name": "ipython",
    "version": 3
   },
   "file_extension": ".py",
   "mimetype": "text/x-python",
   "name": "python",
   "nbconvert_exporter": "python",
   "pygments_lexer": "ipython3",
   "version": "3.11.3"
  }
 },
 "nbformat": 4,
 "nbformat_minor": 5
}
